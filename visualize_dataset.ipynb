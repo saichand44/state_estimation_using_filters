{
 "cells": [
  {
   "cell_type": "markdown",
   "metadata": {},
   "source": [
    "### **Import libraries**"
   ]
  },
  {
   "cell_type": "code",
   "execution_count": 76,
   "metadata": {},
   "outputs": [],
   "source": [
    "import os\n",
    "import sys\n",
    "import pandas as pd\n",
    "import numpy as np\n",
    "import matplotlib.pyplot as plt\n",
    "\n",
    "from utils import Quaternion"
   ]
  },
  {
   "cell_type": "markdown",
   "metadata": {},
   "source": [
    "### **Extract the data from ground truth odometry**"
   ]
  },
  {
   "cell_type": "code",
   "execution_count": 77,
   "metadata": {},
   "outputs": [
    {
     "name": "stdout",
     "output_type": "stream",
     "text": [
      "Length of the dataset: (1101, 12)\n"
     ]
    },
    {
     "data": {
      "text/html": [
       "<div>\n",
       "<style scoped>\n",
       "    .dataframe tbody tr th:only-of-type {\n",
       "        vertical-align: middle;\n",
       "    }\n",
       "\n",
       "    .dataframe tbody tr th {\n",
       "        vertical-align: top;\n",
       "    }\n",
       "\n",
       "    .dataframe thead th {\n",
       "        text-align: right;\n",
       "    }\n",
       "</style>\n",
       "<table border=\"1\" class=\"dataframe\">\n",
       "  <thead>\n",
       "    <tr style=\"text-align: right;\">\n",
       "      <th></th>\n",
       "      <th>0</th>\n",
       "      <th>1</th>\n",
       "      <th>2</th>\n",
       "      <th>3</th>\n",
       "      <th>4</th>\n",
       "      <th>5</th>\n",
       "      <th>6</th>\n",
       "      <th>7</th>\n",
       "      <th>8</th>\n",
       "      <th>9</th>\n",
       "      <th>10</th>\n",
       "      <th>11</th>\n",
       "    </tr>\n",
       "  </thead>\n",
       "  <tbody>\n",
       "    <tr>\n",
       "      <th>0</th>\n",
       "      <td>1.000000</td>\n",
       "      <td>9.043683e-12</td>\n",
       "      <td>2.326809e-11</td>\n",
       "      <td>1.110223e-16</td>\n",
       "      <td>9.043683e-12</td>\n",
       "      <td>1.000000</td>\n",
       "      <td>2.392370e-10</td>\n",
       "      <td>2.220446e-16</td>\n",
       "      <td>2.326810e-11</td>\n",
       "      <td>2.392370e-10</td>\n",
       "      <td>1.000000</td>\n",
       "      <td>-2.220446e-16</td>\n",
       "    </tr>\n",
       "    <tr>\n",
       "      <th>1</th>\n",
       "      <td>0.999050</td>\n",
       "      <td>-1.649780e-03</td>\n",
       "      <td>4.355194e-02</td>\n",
       "      <td>5.154656e-02</td>\n",
       "      <td>1.760423e-03</td>\n",
       "      <td>0.999995</td>\n",
       "      <td>-2.502237e-03</td>\n",
       "      <td>-2.424883e-02</td>\n",
       "      <td>-4.354760e-02</td>\n",
       "      <td>2.576529e-03</td>\n",
       "      <td>0.999048</td>\n",
       "      <td>1.000725e+00</td>\n",
       "    </tr>\n",
       "    <tr>\n",
       "      <th>2</th>\n",
       "      <td>0.996050</td>\n",
       "      <td>-5.367949e-03</td>\n",
       "      <td>8.863831e-02</td>\n",
       "      <td>1.464632e-01</td>\n",
       "      <td>6.010224e-03</td>\n",
       "      <td>0.999958</td>\n",
       "      <td>-6.980718e-03</td>\n",
       "      <td>-5.051622e-02</td>\n",
       "      <td>-8.859707e-02</td>\n",
       "      <td>7.485875e-03</td>\n",
       "      <td>0.996039</td>\n",
       "      <td>1.995659e+00</td>\n",
       "    </tr>\n",
       "    <tr>\n",
       "      <th>3</th>\n",
       "      <td>0.990927</td>\n",
       "      <td>-5.886878e-03</td>\n",
       "      <td>1.342721e-01</td>\n",
       "      <td>2.879204e-01</td>\n",
       "      <td>7.448178e-03</td>\n",
       "      <td>0.999910</td>\n",
       "      <td>-1.112852e-02</td>\n",
       "      <td>-7.903059e-02</td>\n",
       "      <td>-1.341946e-01</td>\n",
       "      <td>1.202763e-02</td>\n",
       "      <td>0.990882</td>\n",
       "      <td>2.986691e+00</td>\n",
       "    </tr>\n",
       "    <tr>\n",
       "      <th>4</th>\n",
       "      <td>0.983622</td>\n",
       "      <td>-3.565066e-03</td>\n",
       "      <td>1.802072e-01</td>\n",
       "      <td>4.657503e-01</td>\n",
       "      <td>6.172884e-03</td>\n",
       "      <td>0.999884</td>\n",
       "      <td>-1.391250e-02</td>\n",
       "      <td>-1.102928e-01</td>\n",
       "      <td>-1.801368e-01</td>\n",
       "      <td>1.479704e-02</td>\n",
       "      <td>0.983530</td>\n",
       "      <td>3.963845e+00</td>\n",
       "    </tr>\n",
       "  </tbody>\n",
       "</table>\n",
       "</div>"
      ],
      "text/plain": [
       "         0             1             2             3             4         5   \\\n",
       "0  1.000000  9.043683e-12  2.326809e-11  1.110223e-16  9.043683e-12  1.000000   \n",
       "1  0.999050 -1.649780e-03  4.355194e-02  5.154656e-02  1.760423e-03  0.999995   \n",
       "2  0.996050 -5.367949e-03  8.863831e-02  1.464632e-01  6.010224e-03  0.999958   \n",
       "3  0.990927 -5.886878e-03  1.342721e-01  2.879204e-01  7.448178e-03  0.999910   \n",
       "4  0.983622 -3.565066e-03  1.802072e-01  4.657503e-01  6.172884e-03  0.999884   \n",
       "\n",
       "             6             7             8             9         10  \\\n",
       "0  2.392370e-10  2.220446e-16  2.326810e-11  2.392370e-10  1.000000   \n",
       "1 -2.502237e-03 -2.424883e-02 -4.354760e-02  2.576529e-03  0.999048   \n",
       "2 -6.980718e-03 -5.051622e-02 -8.859707e-02  7.485875e-03  0.996039   \n",
       "3 -1.112852e-02 -7.903059e-02 -1.341946e-01  1.202763e-02  0.990882   \n",
       "4 -1.391250e-02 -1.102928e-01 -1.801368e-01  1.479704e-02  0.983530   \n",
       "\n",
       "             11  \n",
       "0 -2.220446e-16  \n",
       "1  1.000725e+00  \n",
       "2  1.995659e+00  \n",
       "3  2.986691e+00  \n",
       "4  3.963845e+00  "
      ]
     },
     "execution_count": 77,
     "metadata": {},
     "output_type": "execute_result"
    }
   ],
   "source": [
    "dataset = 1 # 00 to 10\n",
    "\n",
    "# reference for string formatting: https://stackoverflow.com/questions/473282/how-can-i-pad-an-integer-with-zeros-on-the-left\n",
    "filepath = 'dataset/kitti_odom/gt_poses/{:02d}.txt'.format(dataset)\n",
    "poses_df = pd.read_csv(filepath, delimiter=' ', header=None)\n",
    "\n",
    "print('Length of the dataset:', poses_df.shape)\n",
    "poses_df.head()"
   ]
  },
  {
   "cell_type": "code",
   "execution_count": 78,
   "metadata": {},
   "outputs": [
    {
     "name": "stdout",
     "output_type": "stream",
     "text": [
      "[[ 1.000000e+00  9.043683e-12  2.326809e-11  1.110223e-16]\n",
      " [ 9.043683e-12  1.000000e+00  2.392370e-10  2.220446e-16]\n",
      " [ 2.326810e-11  2.392370e-10  9.999999e-01 -2.220446e-16]]\n"
     ]
    }
   ],
   "source": [
    "poses_camera = np.array(poses_df)\n",
    "poses_camera = poses_camera.reshape((poses_df.shape[0], 3, 4))\n",
    "\n",
    "# print example numpy array\n",
    "print(poses_camera[0])"
   ]
  },
  {
   "cell_type": "markdown",
   "metadata": {},
   "source": [
    "### **Convert camera coordinates to world coordinates**"
   ]
  },
  {
   "cell_type": "code",
   "execution_count": 79,
   "metadata": {},
   "outputs": [
    {
     "name": "stdout",
     "output_type": "stream",
     "text": [
      "[[-2.22044600e-16 -1.11022300e-16  5.00000012e-18]\n",
      " [ 1.00072500e+00 -5.15465600e-02 -4.35613802e-02]\n",
      " [ 1.99565900e+00 -1.46463200e-01 -8.87133913e-02]\n",
      " ...\n",
      " [-1.04814500e+03 -1.67938100e+03 -5.47417241e-01]\n",
      " [-1.04673900e+03 -1.68025900e+03 -5.49499600e-01]\n",
      " [-1.04529100e+03 -1.68116700e+03 -5.51464985e-01]]\n"
     ]
    }
   ],
   "source": [
    "poses_world = np.zeros((poses_df.shape[0], 3))  # data_len, x, y, yaw\n",
    "euler_angles_cam = np.zeros((poses_df.shape[0], 3))\n",
    "\n",
    "poses_world[:, 0] = poses_camera[:, 2, 3]      # x-coordinate (Zc = Xw)\n",
    "poses_world[:, 1] = -1 * poses_camera[:, 0, 3] # y-coordinate (-Xc = Yw)\n",
    "\n",
    "# get yaw angle from rotation matrix\n",
    "for i in range(poses_df.shape[0]):\n",
    "    q = Quaternion()\n",
    "    q.from_rotm(poses_camera[i, :3, :3])\n",
    "    euler_angles_cam[i] = q.euler_angles()\n",
    "\n",
    "poses_world[:, 2] = -1 * euler_angles_cam[:, 1] # yaw angle (-camera pitch = world yaw)\n",
    "\n",
    "print(poses_world)"
   ]
  },
  {
   "cell_type": "markdown",
   "metadata": {},
   "source": [
    "### **Plot the odometry data**"
   ]
  },
  {
   "cell_type": "code",
   "execution_count": 80,
   "metadata": {},
   "outputs": [
    {
     "data": {
      "image/png": "[encoded data removed]",
      "text/plain": [
       "<Figure size 600x600 with 1 Axes>"
      ]
     },
     "metadata": {},
     "output_type": "display_data"
    }
   ],
   "source": [
    "fig = plt.figure(figsize=(6,6))\n",
    "ax = fig.add_subplot(111)\n",
    "length = 0.1\n",
    "\n",
    "# Plot arrows\n",
    "for i, (x, y, yaw) in enumerate(poses_world):\n",
    "    dx = length * np.cos(yaw)  # Calculate arrow delta x\n",
    "    dy = length * np.sin(yaw)  # Calculate arrow delta y\n",
    "    ax.quiver(x, y, dx, dy, angles='xy', scale_units='xy', scale=0.1, width=0.005, headwidth=5, color='red')\n",
    "\n",
    "ax.set_xlabel('x')\n",
    "ax.set_ylabel('y')\n",
    "plt.show()"
   ]
  },
  {
   "cell_type": "markdown",
   "metadata": {},
   "source": [
    "### **Export the data**"
   ]
  },
  {
   "cell_type": "code",
   "execution_count": 81,
   "metadata": {},
   "outputs": [],
   "source": [
    "savefile = 'dataset/' + 'poses_world_{:02d}.npz'.format(dataset)\n",
    "\n",
    "# save poses_world to a .npz file\n",
    "np.savez(savefile, poses_world=poses_world)"
   ]
  }
 ],
 "metadata": {
  "kernelspec": {
   "display_name": "Python 3",
   "language": "python",
   "name": "python3"
  },
  "language_info": {
   "codemirror_mode": {
    "name": "ipython",
    "version": 3
   },
   "file_extension": ".py",
   "mimetype": "text/x-python",
   "name": "python",
   "nbconvert_exporter": "python",
   "pygments_lexer": "ipython3",
   "version": "3.8.10"
  }
 },
 "nbformat": 4,
 "nbformat_minor": 2
}
